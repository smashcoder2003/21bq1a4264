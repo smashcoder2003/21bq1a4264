{
 "cells": [
  {
   "cell_type": "code",
   "execution_count": 2,
   "outputs": [
    {
     "name": "stdout",
     "output_type": "stream",
     "text": [
      "The linked list is : [ 10 --> 20 -->  None ]\n"
     ]
    }
   ],
   "source": [
    "# To Create fully functional singly linked list\n",
    "# Node class\n",
    "class Node:\n",
    "    def __init__(self, data): # Initialize\n",
    "        self.next_ref = None\n",
    "        self.data = data\n",
    "\n",
    "\n",
    "\"\"\"\n",
    " Note: 1. All the methods for insertion and deletion of nodes are defined\n",
    "       with respect to the references to the Node objects(NOT TO THE DATA).\n",
    "       2. self.cref stand for current reference. It is mostly used for traversing\n",
    "       and to remember the most recent traversal in the linked list.\n",
    "\"\"\"\n",
    "\n",
    "\n",
    "# LinkedList class\n",
    "class LinkedList:\n",
    "    # Initializer for the LinkedList object\n",
    "    def __init__(self):\n",
    "        self.head = None\n",
    "        self.cref = None\n",
    "\n",
    "    # Method to print all the data of nodes in the linked list\n",
    "    def print_linked_list(self):\n",
    "        self.cref = self.head\n",
    "        print(\"The linked list is : [\", end=' ')\n",
    "        # Traversing through the linked list until the end is reached\n",
    "        while self.cref:\n",
    "            print(self.cref.data, \"-->\", end=\" \")\n",
    "            self.cref = self.cref.next_ref\n",
    "            # Moving the current reference to the next one for each time the loop is entered\n",
    "        print(\" None ]\")\n",
    "\n",
    "    # Method to add a Node at the beginning\n",
    "    def add_at_head(self,data):\n",
    "        new_node = Node(data)\n",
    "        new_node.next_ref = self.head\n",
    "        self.head = new_node\n",
    "    # Method to add a Node at the middle of the linked list\n",
    "    def add_at_middle(self,previous_node,data):\n",
    "        new_node = Node(data)\n",
    "        new_node.next_ref = previous_node.next_ref\n",
    "        previous_node.next_ref = new_node\n",
    "    # Method to add a Node at the end of the linked list\n",
    "    def add_at_end(self,data):\n",
    "        self.cref = self.head\n",
    "        while self.cref.next_ref:\n",
    "            self.cref = self.cref.next_ref\n",
    "        new_node = Node(data)\n",
    "        self.cref.next_ref = new_node\n",
    "\n",
    "    # Method to delete the head of the linked list\n",
    "    def delete_head(self):\n",
    "        self.head = self.head.next_ref\n",
    "\n",
    "    # Method to delete a specific Node from the linked list\n",
    "    def delete_middle(self,node):\n",
    "        self.cref = self.head\n",
    "        while self.cref.next_ref != node:\n",
    "            self.cref = self.cref.next_ref\n",
    "        self.cref.next_ref = self.cref.next_ref.next_ref\n",
    "\n",
    "    # Method to delete the end Node in the linked list\n",
    "    def delete_end(self):\n",
    "        self.cref = self.head\n",
    "        while self.cref.next_ref.next_ref:\n",
    "            self.cref = self.cref.next_ref\n",
    "        self.cref.next_ref = None\n",
    "\n",
    "# Driver code\n",
    "if __name__ == '__main__':\n",
    "    ll = LinkedList()\n",
    "    ll.head = Node(10)\n",
    "    b = Node(20)\n",
    "    ll.head.next_ref = b\n",
    "    ll.print_linked_list()"
   ],
   "metadata": {
    "collapsed": false
   }
  },
  {
   "cell_type": "code",
   "execution_count": 12,
   "outputs": [
    {
     "name": "stdout",
     "output_type": "stream",
     "text": [
      "The reverse travesal of the linked list is : [ 150 <--> 100 <--> 25 <--> 30 <--> None ]\n",
      "The doubly linked list is: [  30 <--> 25 <--> 100 <--> 150 <--> None ]\n"
     ]
    }
   ],
   "source": [
    "# To create a fully functional doubly linked list\n",
    "# class for Node of a doubly linked list\n",
    "class DoublyNode:\n",
    "    def __init__(self, data):\n",
    "        self.data = data\n",
    "        self.next_ref = None\n",
    "        self.previous_ref = None\n",
    "# class for doubly_linked_list\n",
    "class DoublyLinkedList:\n",
    "    def __init__(self):\n",
    "        self.head = None\n",
    "        self.cref = None\n",
    "\n",
    "    def print_doubly_linked_list(self):\n",
    "        self.cref = self.head\n",
    "        print(\"The doubly linked list is: [ \", end=\" \")\n",
    "        while self.cref:\n",
    "            print(self.cref.data, \"<-->\", end=\" \")\n",
    "            self.cref = self.cref.next_ref\n",
    "        print(\"None ]\")\n",
    "\n",
    "    def add_at_head(self,data):\n",
    "        if self.head:\n",
    "            new_node = DoublyNode(data)\n",
    "            new_node.next_ref = self.head\n",
    "            self.head.previous_ref = new_node\n",
    "            self.head = new_node\n",
    "        else:\n",
    "            self.head = DoublyNode(data)\n",
    "\n",
    "    def add_at_position(self,position,data):\n",
    "        if position == 0:\n",
    "            self.add_at_head(data)\n",
    "        else:\n",
    "            count = 0\n",
    "            self.cref = self.head\n",
    "            while self.cref.next_ref and count != position:\n",
    "                count += 1\n",
    "                self.cref = self.cref.next_ref\n",
    "            new_node = DoublyNode(data)\n",
    "            if position > count:\n",
    "                self.add_at_end(data)\n",
    "                return\n",
    "            new_node.next_ref,new_node.previous_ref = self.cref,self.cref.previous_ref\n",
    "            self.cref.previous_ref.next_ref,self.cref.previous_ref = new_node,new_node\n",
    "\n",
    "    def add_at_end(self, data):\n",
    "        self.cref = self.head\n",
    "        while self.cref.next_ref:\n",
    "            self.cref = self.cref.next_ref\n",
    "        new_node = DoublyNode(data)\n",
    "        self.cref.next_ref = new_node\n",
    "        new_node.previous_ref = self.cref\n",
    "\n",
    "    def reverse_traversal(self):\n",
    "        self.cref = self.head\n",
    "        while self.cref.next_ref:\n",
    "            self.cref = self.cref.next_ref\n",
    "        print(\"The reverse travesal of the linked list is : [\", end=\" \")\n",
    "        while self.cref:\n",
    "            print(self.cref.data, \"<-->\", end=\" \")\n",
    "            self.cref = self.cref.previous_ref\n",
    "        print(\"None ]\")\n",
    "if __name__ =='__main__':\n",
    "    doublyList = DoublyLinkedList()\n",
    "    doublyList.add_at_head(25)\n",
    "    doublyList.add_at_head(30)\n",
    "    doublyList.add_at_end(100)\n",
    "    doublyList.add_at_position(,150)\n",
    "    doublyList.reverse_traversal()\n",
    "    doublyList.print_doubly_linked_list()\n"
   ],
   "metadata": {
    "collapsed": false
   }
  },
  {
   "cell_type": "code",
   "execution_count": 3,
   "outputs": [
    {
     "name": "stdout",
     "output_type": "stream",
     "text": [
      "[5, 1, 2, 3, 4]\n"
     ]
    }
   ],
   "source": [
    "list1 = [1, 2, 3, 4]\n",
    "list1.insert(0,5)\n",
    "print(list1)"
   ],
   "metadata": {
    "collapsed": false
   }
  }
 ],
 "metadata": {
  "kernelspec": {
   "display_name": "Python 3",
   "language": "python",
   "name": "python3"
  },
  "language_info": {
   "codemirror_mode": {
    "name": "ipython",
    "version": 2
   },
   "file_extension": ".py",
   "mimetype": "text/x-python",
   "name": "python",
   "nbconvert_exporter": "python",
   "pygments_lexer": "ipython2",
   "version": "2.7.6"
  }
 },
 "nbformat": 4,
 "nbformat_minor": 0
}
