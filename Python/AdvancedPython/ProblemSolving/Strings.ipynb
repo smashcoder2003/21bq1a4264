{
 "cells": [
  {
   "cell_type": "code",
   "execution_count": 4,
   "metadata": {
    "collapsed": true
   },
   "outputs": [
    {
     "name": "stdout",
     "output_type": "stream",
     "text": [
      "2\n"
     ]
    }
   ],
   "source": [
    "\"\"\"In this challenge, the user enters a string and a substring. You have to print the number of times that the substring occurs in the given string. String traversal will take place from left to right, not from right to left.\n",
    "\n",
    "NOTE: String letters are case-sensitive.\n",
    "\n",
    "Input Format\n",
    "The first line of input contains the original string. The next line contains the substring.\n",
    "\n",
    "\"\"\"\n",
    "\n",
    "def count_sub_sequence_of_string(string, sub_string):\n",
    "    sequence_index = count = i =  0\n",
    "    while i < len(string):\n",
    "        if string[i] == sub_string[sequence_index]:\n",
    "            sequence_index += 1\n",
    "        i += 1\n",
    "        if sequence_index == len(sub_string):\n",
    "            count += 1\n",
    "            sequence_index = 0\n",
    "            i -= 1\n",
    "    return count\n",
    "\n",
    "def count_substring2(string,sub_string):\n",
    "    count = 0\n",
    "    sub_len = len(sub_string)\n",
    "    for i in range(len(string) - sub_len + 1):\n",
    "        if string[i:i+sub_len] == sub_string:\n",
    "            count += 1\n",
    "    return count\n",
    "\n",
    "if __name__ == '__main__':\n",
    "    string = input().strip()\n",
    "    sub_string = input().strip()\n",
    "\n",
    "    count = count_substring2(string, sub_string)\n",
    "    print(count)\n"
   ]
  },
  {
   "cell_type": "code",
   "execution_count": 10,
   "outputs": [
    {
     "name": "stdout",
     "output_type": "stream",
     "text": [
      "3\n"
     ]
    }
   ],
   "source": [
    "# Count substring3 by saketh\n",
    "def search(s, p, skey):\n",
    "    lt = []\n",
    "    z = list(p)\n",
    "    for i in range(skey,len(s)):\n",
    "        if s[i] in p:\n",
    "            lt.append(s[i])\n",
    "            z.remove(s[i])\n",
    "        if len(lt) == len(p):\n",
    "            return lt\n",
    "    return lt\n",
    "\n",
    "\n",
    "def check(string, pat):\n",
    "    count = 0\n",
    "    p = pat[0]\n",
    "    for i in range(len(string)):\n",
    "        s = string[i]\n",
    "        if s == p:\n",
    "            lt = search(string, pat, i)\n",
    "            if lt == list(pat):\n",
    "                count += 1\n",
    "    return count\n",
    "\n",
    "\n",
    "s= \"WoW!ItSCoOWoWW\"\n",
    "p= \"oW\"\n",
    "\n",
    "\n",
    "print(check(s, p))"
   ],
   "metadata": {
    "collapsed": false
   }
  },
  {
   "cell_type": "code",
   "execution_count": 2,
   "outputs": [
    {
     "name": "stdout",
     "output_type": "stream",
     "text": [
      "Stuart 21\n"
     ]
    }
   ],
   "source": [
    "def minion_game(string):\n",
    "    kevins_score = stuarts_score = 0\n",
    "    string = string.lower()\n",
    "    vowels = 'aeiou'\n",
    "    for x in range(len(string)):\n",
    "        if string[x] in vowels:\n",
    "            kevins_score += (len(string) - x)\n",
    "        if string[x] not in vowels:\n",
    "            stuarts_score += (len(string) - x)\n",
    "    if kevins_score > stuarts_score:\n",
    "        print(\"Kevin\", kevins_score)\n",
    "    elif kevins_score < stuarts_score:\n",
    "        print(\"Stuart\", stuarts_score)\n",
    "    else:\n",
    "        print(\"Draw\")\n",
    "\n",
    "if __name__ == '__main__':\n",
    "    s = input()\n",
    "    minion_game(s)"
   ],
   "metadata": {
    "collapsed": false,
    "ExecuteTime": {
     "start_time": "2023-04-09T21:27:50.722195Z",
     "end_time": "2023-04-09T21:27:52.622857Z"
    }
   }
  },
  {
   "cell_type": "code",
   "execution_count": 3,
   "outputs": [
    {
     "name": "stdout",
     "output_type": "stream",
     "text": [
      "5\n"
     ]
    }
   ],
   "source": [
    "from collections import Counter\n",
    "class Solution:\n",
    "    def lengthOfLongestSubstring(self, s: str) -> int:\n",
    "        chars = Counter()\n",
    "\n",
    "        left = right = 0\n",
    "\n",
    "        res = 0\n",
    "        while right < len(s):\n",
    "            r = s[right]\n",
    "            chars[r] += 1\n",
    "\n",
    "            while chars[r] > 1:\n",
    "                l = s[left]\n",
    "                chars[l] -= 1\n",
    "                left += 1\n",
    "\n",
    "            res = max(res, right - left + 1)\n",
    "\n",
    "            right += 1\n",
    "        return res\n",
    "\n",
    "\n",
    "if __name__ == '__main__':\n",
    "    print(Solution.lengthOfLongestSubstring(Solution, \"bhargav\"))"
   ],
   "metadata": {
    "collapsed": false,
    "ExecuteTime": {
     "start_time": "2023-04-09T21:28:02.271216Z",
     "end_time": "2023-04-09T21:28:02.277043Z"
    }
   }
  },
  {
   "cell_type": "code",
   "execution_count": null,
   "outputs": [],
   "source": [],
   "metadata": {
    "collapsed": false
   }
  }
 ],
 "metadata": {
  "kernelspec": {
   "display_name": "Python 3",
   "language": "python",
   "name": "python3"
  },
  "language_info": {
   "codemirror_mode": {
    "name": "ipython",
    "version": 2
   },
   "file_extension": ".py",
   "mimetype": "text/x-python",
   "name": "python",
   "nbconvert_exporter": "python",
   "pygments_lexer": "ipython2",
   "version": "2.7.6"
  }
 },
 "nbformat": 4,
 "nbformat_minor": 0
}
