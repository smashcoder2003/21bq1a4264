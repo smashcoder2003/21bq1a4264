{
 "cells": [
  {
   "cell_type": "code",
   "execution_count": 1,
   "metadata": {
    "collapsed": true
   },
   "outputs": [
    {
     "name": "stdout",
     "output_type": "stream",
     "text": [
      "[1, 1, 1, 2, 2, 2, 3, 4]\n"
     ]
    }
   ],
   "source": [
    "def removeDuplicates(nums: list[int]) -> list[int] :\n",
    "    my_dict = {}\n",
    "    list = []\n",
    "\n",
    "    for x in nums:\n",
    "        if x in my_dict:\n",
    "            if my_dict[x] >= 2:\n",
    "                list.append(x)\n",
    "            else:\n",
    "                my_dict[x] += 1\n",
    "        else:\n",
    "            my_dict[x] = 1\n",
    "\n",
    "    for i in list:\n",
    "        nums.remove(i)\n",
    "\n",
    "    return nums\n",
    "\n",
    "\n",
    "if __name__ == '__main__':\n",
    "    nums = [1, 1, 1, 1, 2, 2, 2, 2, 2,  3, 4]\n",
    "    print(removeDuplicates(nums))"
   ]
  },
  {
   "cell_type": "code",
   "execution_count": null,
   "outputs": [],
   "source": [
    "class Solution:\n",
    "    def sortColors(self, nums: list[int]) -> list[int]:\n",
    "        for i in range(len(nums)):\n",
    "            for j in range(len(nums)-i-1):\n",
    "                if nums[j] > nums[j+1]:\n",
    "                    nums[j], nums[j+1] = nums[j+1], nums[j]\n",
    "        return nums\n",
    "\n",
    "\n",
    "if __name__ == '__main__':\n",
    "    nums = [2,0,2,1,1,0]\n",
    "    print(Solution.sortColors(Solution,nums))"
   ],
   "metadata": {
    "collapsed": false
   }
  },
  {
   "cell_type": "code",
   "execution_count": null,
   "outputs": [],
   "source": [
    "def ice_cream_bars(costs, coins):\n",
    "    maximum_icecream_bars = []\n",
    "    # Spending all the coins\n",
    "    while len(costs) and coins-min(costs) > 0:\n",
    "        # Finding the cheapest ice cream bar\n",
    "        min_cost =   min(costs)\n",
    "        coins -= min_cost\n",
    "        # Once an icecream bar has been bought it is removed from the store.\n",
    "        costs.remove(min_cost)\n",
    "        # The ice cream bars bought by the boy will be added to the maximum_icecream_bars\n",
    "        maximum_icecream_bars.append(min_cost)\n",
    "    return len(maximum_icecream_bars)\n",
    "\n",
    "if __name__ == '__main__':\n",
    "    costs = [12,50,25,14,16,90,40]\n",
    "    coins = 190\n",
    "    print(ice_cream_bars(costs,coins))"
   ],
   "metadata": {
    "collapsed": false
   }
  },
  {
   "cell_type": "code",
   "execution_count": 20,
   "outputs": [
    {
     "name": "stdout",
     "output_type": "stream",
     "text": [
      "3\n"
     ]
    }
   ],
   "source": [
    "class Solution:\n",
    "\tdef subarraySum(self, nums: list[int], k: int) -> int:\n",
    "\n",
    "\t\tans=0\n",
    "\t\tprefsum=0\n",
    "\t\td={0:1}\n",
    "\n",
    "\t\tfor num in nums:\n",
    "\t\t\tprefsum = prefsum + num\n",
    "\n",
    "\t\t\tif prefsum-k in d:\n",
    "\t\t\t\tans = ans + d[prefsum-k]\n",
    "\n",
    "\t\t\tif prefsum not in d:\n",
    "\t\t\t\td[prefsum] = 1\n",
    "\t\t\telse:\n",
    "\t\t\t\td[prefsum] = d[prefsum]+1\n",
    "\n",
    "\t\treturn ans\n",
    "\n",
    "\n",
    "if __name__ == '__main__':\n",
    "    print(Solution.subarraySum(Solution, [1, 1, 1, 2, 3, 4, 5], 3))\n"
   ],
   "metadata": {
    "collapsed": false
   }
  },
  {
   "cell_type": "code",
   "execution_count": 21,
   "outputs": [
    {
     "name": "stdout",
     "output_type": "stream",
     "text": [
      "[2, 3, 5, 4, 1, 7]\n"
     ]
    }
   ],
   "source": [
    "class Solution:\n",
    "    def shuffle(self, nums: list[int], n: int) -> list[int]:\n",
    "        i, j = 0, n\n",
    "        ShuffledList = []\n",
    "        while i < n and j < 2*n:\n",
    "            ShuffledList += [nums[i]] + [nums[j]]\n",
    "            i += 1\n",
    "            j+=1\n",
    "        return ShuffledList\n",
    "\n",
    "if __name__ == '__main__':\n",
    "    print(Solution.shuffle(Solution, [2,5,1,3,4,7], 3))\n"
   ],
   "metadata": {
    "collapsed": false
   }
  },
  {
   "cell_type": "code",
   "execution_count": 53,
   "outputs": [
    {
     "name": "stdout",
     "output_type": "stream",
     "text": [
      "3\n"
     ]
    }
   ],
   "source": [
    "class Solution:\n",
    "    def totalFruit(self, fruits: list[int]) -> int:\n",
    "        p = 0\n",
    "        hashmap = {}\n",
    "        count = []\n",
    "        for i in range(len(fruits)):\n",
    "            for j in range(i, len(fruits)):\n",
    "                if fruits[j] in hashmap:\n",
    "                    hashmap[fruits[j]] += 1\n",
    "\n",
    "                else:\n",
    "                    if p < 2 :\n",
    "                        hashmap[fruits[j]] = 1\n",
    "                        p += 1\n",
    "                    else:\n",
    "                        break\n",
    "            count.append(sum(hashmap.values()))\n",
    "            p = 0\n",
    "            hashmap = {}\n",
    "        return max(count)\n",
    "\n",
    "if __name__ == '__main__':\n",
    "    print(Solution.totalFruit(Solution, [2, 2, 2, 2, 1]))"
   ],
   "metadata": {
    "collapsed": false
   }
  },
  {
   "cell_type": "code",
   "execution_count": 20,
   "outputs": [
    {
     "name": "stdout",
     "output_type": "stream",
     "text": [
      "None\n",
      "None\n"
     ]
    }
   ],
   "source": [
    "class Solution:\n",
    "    def intersect(self, nums1: list[int], nums2: list[int]) -> list[int]:\n",
    "        temp = []\n",
    "        for x in nums1:\n",
    "            if x in nums2:\n",
    "                temp.append(x)\n",
    "                nums2.remove(x)\n",
    "        return temp\n",
    "\n",
    "if __name__ == '__main__':\n",
    "    print(Solution.intersect(Solution, nums1=[4, 9, 5, 9, 2, 3, 5, 6], nums2=[9, 4, 9, 8, 4]))"
   ],
   "metadata": {
    "collapsed": false
   }
  }
 ],
 "metadata": {
  "kernelspec": {
   "display_name": "Python 3",
   "language": "python",
   "name": "python3"
  },
  "language_info": {
   "codemirror_mode": {
    "name": "ipython",
    "version": 2
   },
   "file_extension": ".py",
   "mimetype": "text/x-python",
   "name": "python",
   "nbconvert_exporter": "python",
   "pygments_lexer": "ipython2",
   "version": "2.7.6"
  }
 },
 "nbformat": 4,
 "nbformat_minor": 0
}
