{
 "cells": [
  {
   "cell_type": "code",
   "execution_count": 2,
   "outputs": [
    {
     "name": "stdout",
     "output_type": "stream",
     "text": [
      "True\n"
     ]
    }
   ],
   "source": [
    "def is_prime(n):\n",
    "    if n == 1:\n",
    "        return False\n",
    "    if n == 2 or n == 3:\n",
    "        return True\n",
    "    i = 5\n",
    "    if n % 2 == 0 or n % 3 == 0:\n",
    "        return False\n",
    "    while i * i <= n:\n",
    "        if n % i == 0 and n % i + 2 == 0:\n",
    "            return False\n",
    "        i += 6\n",
    "    return True\n",
    "\n",
    "if __name__ =='__main__':\n",
    "    n = int(input(\"Enter any number: \"))\n",
    "    print(is_prime(n))"
   ],
   "metadata": {
    "collapsed": false
   }
  },
  {
   "cell_type": "code",
   "execution_count": 1,
   "outputs": [
    {
     "ename": "ValueError",
     "evalue": "invalid literal for int() with base 10: ''",
     "output_type": "error",
     "traceback": [
      "\u001B[0;31m---------------------------------------------------------------------------\u001B[0m",
      "\u001B[0;31mValueError\u001B[0m                                Traceback (most recent call last)",
      "Cell \u001B[0;32mIn[1], line 18\u001B[0m\n\u001B[1;32m     14\u001B[0m         m \u001B[38;5;241m-\u001B[39m\u001B[38;5;241m=\u001B[39m \u001B[38;5;241m1\u001B[39m\n\u001B[1;32m     17\u001B[0m \u001B[38;5;28;01mif\u001B[39;00m \u001B[38;5;18m__name__\u001B[39m \u001B[38;5;241m==\u001B[39m \u001B[38;5;124m\"\u001B[39m\u001B[38;5;124m__main__\u001B[39m\u001B[38;5;124m\"\u001B[39m:\n\u001B[0;32m---> 18\u001B[0m     n \u001B[38;5;241m=\u001B[39m \u001B[38;5;28;43mint\u001B[39;49m\u001B[43m(\u001B[49m\u001B[38;5;28;43minput\u001B[39;49m\u001B[43m(\u001B[49m\u001B[43m)\u001B[49m\u001B[43m)\u001B[49m\n\u001B[1;32m     19\u001B[0m     m \u001B[38;5;241m=\u001B[39m n\u001B[38;5;241m-\u001B[39m\u001B[38;5;241m1\u001B[39m\n\u001B[1;32m     20\u001B[0m     j \u001B[38;5;241m=\u001B[39m \u001B[38;5;241m0\u001B[39m\n",
      "\u001B[0;31mValueError\u001B[0m: invalid literal for int() with base 10: ''"
     ]
    }
   ],
   "source": [
    "# pascal triangle\n",
    "# partial derivatives\n",
    "\n",
    "\n",
    "def printer(m,l):\n",
    "    fl = []\n",
    "    fl.append(\" \"*m)\n",
    "    for i in range(len(l)):\n",
    "        fl.append(l[i])\n",
    "    print(*fl, sep=\" \")\n",
    "def temp(m,l):\n",
    "    for i in range(len(l)):\n",
    "        temp= []\n",
    "        temp = l[i]\n",
    "        printer(m,temp)\n",
    "        m -= 1\n",
    "\n",
    "\n",
    "if __name__ == \"__main__\":\n",
    "    n = int(input())\n",
    "    m = n-1\n",
    "    j = 0\n",
    "    l = []\n",
    "    if n == 0:\n",
    "        print(\"enter a non zero positive number....\")\n",
    "    else:\n",
    "        if n<6:\n",
    "            for i in range(n):\n",
    "                tempo = list(str(11**j))\n",
    "                l.append(tempo)\n",
    "                j += 1\n",
    "\n",
    "        else:\n",
    "            for i in range(5):\n",
    "                tempo = list(str(11**j))\n",
    "                l.append(tempo)\n",
    "                j += 1\n",
    "            for q in range(5,n):\n",
    "                tempo = []\n",
    "                tempo.append(\"1\")\n",
    "                l.append(tempo)\n",
    "                print(l[q])\n",
    "                for i in range(1,len(l[q-1])):\n",
    "                    l[q].append(str((int(l[q-1][i])+int(l[q-1][i-1]))))\n",
    "                l[q].append(\"1\")\n",
    "print(l)\n",
    "temp(m,l)"
   ],
   "metadata": {
    "collapsed": false
   }
  }
 ],
 "metadata": {
  "kernelspec": {
   "display_name": "Python 3",
   "language": "python",
   "name": "python3"
  },
  "language_info": {
   "codemirror_mode": {
    "name": "ipython",
    "version": 2
   },
   "file_extension": ".py",
   "mimetype": "text/x-python",
   "name": "python",
   "nbconvert_exporter": "python",
   "pygments_lexer": "ipython2",
   "version": "2.7.6"
  }
 },
 "nbformat": 4,
 "nbformat_minor": 0
}
