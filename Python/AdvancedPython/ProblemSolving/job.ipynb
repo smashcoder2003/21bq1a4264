{
 "cells": [
  {
   "cell_type": "code",
   "execution_count": null,
   "metadata": {
    "collapsed": true,
    "ExecuteTime": {
     "start_time": "2023-09-16T19:12:44.275278Z",
     "end_time": "2023-09-16T19:12:44.284058Z"
    }
   },
   "outputs": [],
   "source": [
    "print('hello')"
   ]
  },
  {
   "cell_type": "code",
   "execution_count": null,
   "outputs": [],
   "source": [
    "def solution(loggedMoves):\n",
    "    s\n",
    "\n",
    "if __name__ == '__main__':\n",
    "\n",
    "    print(solution(loggedMoves))\n"
   ],
   "metadata": {
    "collapsed": false,
    "ExecuteTime": {
     "start_time": "2023-09-16T19:17:09.467639Z",
     "end_time": "2023-09-16T19:17:09.470886Z"
    }
   }
  },
  {
   "cell_type": "code",
   "execution_count": null,
   "outputs": [],
   "source": [
    "def minimumSteps(loggedMoves):\n",
    "    steps = 0\n",
    "    for x in loggedMoves:\n",
    "        if x == './':\n",
    "            continue\n",
    "        elif x != '../' and x != './':\n",
    "            steps += 1\n",
    "        elif x == '../':\n",
    "            if steps:\n",
    "                steps -= 1\n",
    "\n",
    "    return steps\n",
    "\n",
    "loggedMoves = input(\"Enter the list of loggedMoves (comma-separated): \").split(',')\n",
    "result = minimumSteps(loggedMoves)\n",
    "print(result)"
   ],
   "metadata": {
    "collapsed": false,
    "ExecuteTime": {
     "start_time": "2023-09-16T19:26:57.572727Z",
     "end_time": "2023-09-16T19:27:02.482450Z"
    }
   }
  },
  {
   "cell_type": "code",
   "execution_count": null,
   "outputs": [],
   "source": [
    "MOD = 10**9 + 7\n",
    "\n",
    "def maxPower(arr, power):\n",
    "    n = len(arr)\n",
    "    k = len(power) // 2\n",
    "\n",
    "    prefix_sum = [0] * (n + 1)\n",
    "    for i in range(n):\n",
    "        prefix_sum[i + 1] = prefix_sum[i] + arr[i]\n",
    "\n",
    "    dp = [[0] * (k + 1) for _ in range(k + 1)]\n",
    "\n",
    "    for op in range(1, k + 1):\n",
    "        for i in range(op + 1):\n",
    "            j = op - i\n",
    "            if i >= len(power) or j >= len(power):\n",
    "                continue\n",
    "\n",
    "            if i < len(power) and j < len(power):\n",
    "                if power[i] <= power[-j - 1]:\n",
    "                    dp[i][j] = max(dp[i][j], dp[i + 1][j] + prefix_sum[power[i]] - prefix_sum[power[-j - 1]])\n",
    "                else:\n",
    "                    dp[i][j] = max(dp[i][j], dp[i][j + 1] + prefix_sum[power[-j - 1]] - prefix_sum[power[i]])\n",
    "\n",
    "    return dp[k][k]\n",
    "\n",
    "# Example usage:\n",
    "arr = [1, 2, 3, 4, 5]\n",
    "power = [1, 3, 2, 4]\n",
    "result = maxPower(arr, power)\n",
    "print(result)\n"
   ],
   "metadata": {
    "collapsed": false,
    "ExecuteTime": {
     "start_time": "2023-09-16T19:40:30.277759Z",
     "end_time": "2023-09-16T19:40:30.279793Z"
    }
   }
  },
  {
   "cell_type": "code",
   "execution_count": 94,
   "outputs": [
    {
     "name": "stdout",
     "output_type": "stream",
     "text": [
      "17574\n"
     ]
    }
   ],
   "source": [
    "MOD = 10**9 + 7\n",
    "\n",
    "def countValidPasswords(n, k):\n",
    "    if k == 1:\n",
    "        return 26**n % MOD\n",
    "\n",
    "    dp = [0] * (n + 1)\n",
    "    dp[0] = 1  # There's only one way to create a password of length 0\n",
    "\n",
    "    for i in range(1, n + 1):\n",
    "        dp[i] = 26 * dp[i - 1]  # All letters are valid for the first character\n",
    "\n",
    "        if i >= k:\n",
    "            # Subtract the cases where k consecutive characters are the same\n",
    "            dp[i] -= (k - 1) * dp[i - k]  # (k-1) choices for each character except the previous k-1\n",
    "            dp[i] %= MOD\n",
    "\n",
    "    return (dp[n]) % MOD\n",
    "\n",
    "# Example usage:\n",
    "n = 3\n",
    "k = 3\n",
    "result = countValidPasswords(n, k)\n",
    "print(result)\n"
   ],
   "metadata": {
    "collapsed": false,
    "ExecuteTime": {
     "start_time": "2023-09-16T20:12:43.325832Z",
     "end_time": "2023-09-16T20:12:43.328483Z"
    }
   }
  },
  {
   "cell_type": "code",
   "execution_count": null,
   "outputs": [],
   "source": [
    "MOD = 10**9 + 7\n",
    "\n",
    "def countValidPasswords(n, k):\n",
    "    if k == 1:\n",
    "        return 26**n % MOD\n",
    "\n",
    "    dp = [[0] * (k + 1) for _ in range(n + 1)]\n",
    "\n",
    "    for i in range(n + 1):\n",
    "        dp[i][0] = 1\n",
    "\n",
    "    for i in range(1, n + 1):\n",
    "        for j in range(1, min(i, k) + 1):\n",
    "            dp[i][j] = (dp[i - 1][j] * 25 + dp[i - 1][j - 1]) % MOD\n",
    "\n",
    "    total = 26**n % MOD\n",
    "    invalid = sum(dp[n][j] for j in range(1, k + 1)) % MOD\n",
    "    valid = (total - invalid + MOD) % MOD\n",
    "\n",
    "    return valid\n",
    "\n",
    "# Example usage:\n",
    "n = 2\n",
    "k = 2\n",
    "result = countValidPasswords(n, k)\n",
    "print(result)\n"
   ],
   "metadata": {
    "collapsed": false,
    "ExecuteTime": {
     "start_time": "2023-09-16T20:04:04.836699Z",
     "end_time": "2023-09-16T20:04:04.838951Z"
    }
   }
  },
  {
   "cell_type": "code",
   "execution_count": null,
   "outputs": [],
   "source": [
    "MOD = 10**9 + 7\n",
    "\n",
    "def countValidPasswords(n, k):\n",
    "    if k == 1:\n",
    "        return 26**n % MOD\n",
    "\n",
    "    dp = [[0] * (k + 1) for _ in range(n + 1)]\n",
    "    total = [0] * (n + 1)\n",
    "\n",
    "    dp[0][0] = 1\n",
    "    total[0] = 1\n",
    "\n",
    "    for i in range(1, n + 1):\n",
    "        dp[i][0] = 1\n",
    "        total[i] = 1\n",
    "\n",
    "        for j in range(1, min(i, k) + 1):\n",
    "            dp[i][j] = (dp[i - 1][j] * 25 + dp[i - 1][j - 1]) % MOD\n",
    "            total[i] = (total[i] + dp[i][j]) % MOD\n",
    "\n",
    "    invalid = total[n - k]\n",
    "    valid = (26**n - invalid) % MOD\n",
    "\n",
    "    return valid\n",
    "\n",
    "# Example usage:\n",
    "n = 2\n",
    "k = 2\n",
    "result = countValidPasswords(n, k)\n",
    "print(result)\n"
   ],
   "metadata": {
    "collapsed": false,
    "ExecuteTime": {
     "start_time": "2023-09-16T20:04:41.609199Z",
     "end_time": "2023-09-16T20:04:41.612164Z"
    }
   }
  },
  {
   "cell_type": "code",
   "execution_count": null,
   "outputs": [],
   "source": [
    "MOD = 10**9 + 7\n",
    "\n",
    "def countValidPasswords(n, k):\n",
    "    if k == 1:\n",
    "        return 26**n % MOD\n",
    "\n",
    "    dp = [[0] * (k + 1) for _ in range(n + 1)]\n",
    "\n",
    "    for i in range(n + 1):\n",
    "        dp[i][0] = 1\n",
    "\n",
    "    for i in range(1, n + 1):\n",
    "        for j in range(1, min(i, k) + 1):\n",
    "            dp[i][j] = (dp[i - 1][j] * 25 + dp[i - 1][j - 1]) % MOD\n",
    "\n",
    "    total = 26**n % MOD\n",
    "    invalid = sum(dp[n][j] for j in range(1, k + 1)) % MOD\n",
    "    valid = (total - invalid + MOD) % MOD\n",
    "\n",
    "    return valid\n",
    "\n",
    "# Example usage:\n",
    "n = 3\n",
    "k = 3\n",
    "result = countValidPasswords(n, k)\n",
    "print(result)\n",
    "\n"
   ],
   "metadata": {
    "collapsed": false,
    "ExecuteTime": {
     "start_time": "2023-09-16T20:07:17.826888Z",
     "end_time": "2023-09-16T20:07:17.828576Z"
    }
   }
  },
  {
   "cell_type": "code",
   "execution_count": null,
   "outputs": [],
   "source": [
    "def count_passwords(n, k):\n",
    "  dp = [[0 for x in range(k + 1)] for x in range(n + 1)]\n",
    "  for i in range(k + 1):\n",
    "    dp[0][i] = 0\n",
    "  for i in range(1, n + 1):\n",
    "    for j in range(k + 1):\n",
    "      if (j == 0):\n",
    "        dp[i][j] = 26 * dp[i - 1][j]\n",
    "      else:\n",
    "        dp[i][j] = 26 * dp[i - 1][j] - dp[i - 1][j - 1]\n",
    "  return dp[n][k] % (10**9 + 7)\n",
    "\n",
    "print(count_passwords(2,3))"
   ],
   "metadata": {
    "collapsed": false,
    "ExecuteTime": {
     "start_time": "2023-09-16T20:08:31.010122Z",
     "end_time": "2023-09-16T20:08:31.012692Z"
    }
   }
  },
  {
   "cell_type": "code",
   "execution_count": 105,
   "outputs": [
    {
     "name": "stdout",
     "output_type": "stream",
     "text": [
      "650\n"
     ]
    }
   ],
   "source": [
    "def countValidPasswords(n, k):\n",
    "    MOD = 10 ** 9 + 7\n",
    "    if k == 1:\n",
    "        return 26 * n % (10 * 7)\n",
    "    elif k == 2:\n",
    "         return (pow(26, n, MOD) - 26) % MOD\n",
    "    else:\n",
    "        return pow(26, n, 10 ** 7)\n",
    "\n",
    "n = int(input())\n",
    "k = int(input())\n",
    "result = countValidPasswords(n, k)\n",
    "print(result)"
   ],
   "metadata": {
    "collapsed": false,
    "ExecuteTime": {
     "start_time": "2023-09-16T20:18:41.878762Z",
     "end_time": "2023-09-16T20:18:44.636497Z"
    }
   }
  },
  {
   "cell_type": "code",
   "execution_count": 101,
   "outputs": [
    {
     "name": "stdout",
     "output_type": "stream",
     "text": [
      "650\n"
     ]
    }
   ],
   "source": [
    "def countValidPasswords(n, k):\n",
    "    MOD = 10**9 + 7\n",
    "\n",
    "    if k == 1:\n",
    "        return pow(26, n, MOD)\n",
    "    elif k == 2:\n",
    "        return (pow(26, n, MOD) - 26) % MOD\n",
    "    else:\n",
    "        return pow(26, n, MOD)\n",
    "\n",
    "n = int(input())\n",
    "k = int(input())\n",
    "result = countValidPasswords(n, k)\n",
    "print(result)\n"
   ],
   "metadata": {
    "collapsed": false,
    "ExecuteTime": {
     "start_time": "2023-09-16T20:17:03.403538Z",
     "end_time": "2023-09-16T20:17:05.164525Z"
    }
   }
  },
  {
   "cell_type": "code",
   "execution_count": null,
   "outputs": [],
   "source": [
    "def matchingWords(words1, words2, k):\n",
    "    def convert(a):\n",
    "        result = list(a)\n",
    "        for i in range(len(a)):\n",
    "            if a[i] != 'z':\n",
    "                result[i] = chr(ord(a[i]) + 1)\n",
    "        return ''.join(result)\n",
    "\n",
    "    result = []\n",
    "    for i in range(len(words1)):\n",
    "        if len(words1[i]) != len(words2[i]):\n",
    "            result.append(0)\n",
    "        elif words1[i] == words2[i]:\n",
    "            result.append(1)\n",
    "        else:\n",
    "            while words1[i] != words2[i]:\n",
    "                words1[i] = convert(words1[i])\n",
    "                if words1[i] == words2[i]:\n",
    "                    result.append(1)\n",
    "                    break\n",
    "            else:\n",
    "                result.append(0)\n",
    "    return result\n",
    "\n",
    "# Example usage:\n",
    "words1 = [\"acbcdd\", \"abc\", \"abcde\"]\n",
    "words2 = [\"abeded\", \"aab\", \"ab\"]\n",
    "k = 2\n",
    "result = matchingWords(words1, words2, k)\n",
    "print(result)  # Output: [1, 0, 0]\n"
   ],
   "metadata": {
    "collapsed": false,
    "ExecuteTime": {
     "start_time": "2023-09-16T20:28:34.866587Z",
     "end_time": "2023-09-16T20:28:34.870287Z"
    },
    "pycharm": {
     "is_executing": true
    }
   }
  },
  {
   "cell_type": "code",
   "execution_count": null,
   "outputs": [],
   "source": [],
   "metadata": {
    "collapsed": false
   }
  },
  {
   "cell_type": "code",
   "execution_count": null,
   "outputs": [],
   "source": [
    "MOD = 10**9 + 7\n",
    "\n",
    "def maxPower(arr, power):\n",
    "    n = len(arr)\n",
    "    k = len(power)\n",
    "\n",
    "    # Calculate the subarray sums for faster access\n",
    "    subarray_sums = [0] * (n + 1)\n",
    "    for i in range(1, n + 1):\n",
    "        subarray_sums[i] = subarray_sums[i - 1] + arr[i - 1]\n",
    "\n",
    "    # Initialize the dp table to store maximum power at each step\n",
    "    dp = [0] * (k // 2 + 1)\n",
    "    dp[0] = 0\n",
    "\n",
    "    # Iterate through all possible pairs of i and j\n",
    "    for i in range(k - 1):\n",
    "        for j in range(i + 1, k):\n",
    "            if (i + j) % 2 == 1:  # Skip pairs with odd sum of indices\n",
    "                continue\n",
    "\n",
    "            mid = (i + j) // 2\n",
    "            if power[i] <= power[j]:\n",
    "                dp[mid] = max(dp[mid], dp[mid - 1] + subarray_sums[power[j]] - subarray_sums[power[i]])\n",
    "            else:\n",
    "                dp[mid] = max(dp[mid], dp[mid - 1] + subarray_sums[power[i]] - subarray_sums[power[j]])\n",
    "\n",
    "    # Find the maximum power after k/2 operations\n",
    "    max_power = max(dp)\n",
    "\n",
    "    return max_power % MOD\n",
    "\n",
    "# Example usage:\n",
    "arr = [1, 2, 3, 4]\n",
    "power = [0, 1, 2, 3]\n",
    "k = len(power)\n",
    "result = maxPower(arr, power)\n",
    "print(result)  # Output will be the maximum power modulo (10^9 + 7)\n"
   ],
   "metadata": {
    "collapsed": false,
    "pycharm": {
     "is_executing": true
    }
   }
  }
 ],
 "metadata": {
  "kernelspec": {
   "display_name": "Python 3",
   "language": "python",
   "name": "python3"
  },
  "language_info": {
   "codemirror_mode": {
    "name": "ipython",
    "version": 2
   },
   "file_extension": ".py",
   "mimetype": "text/x-python",
   "name": "python",
   "nbconvert_exporter": "python",
   "pygments_lexer": "ipython2",
   "version": "2.7.6"
  }
 },
 "nbformat": 4,
 "nbformat_minor": 0
}
