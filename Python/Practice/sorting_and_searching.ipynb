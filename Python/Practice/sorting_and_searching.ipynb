{
 "cells": [
  {
   "cell_type": "code",
   "execution_count": 2,
   "metadata": {
    "collapsed": true
   },
   "outputs": [
    {
     "name": "stdout",
     "output_type": "stream",
     "text": [
      "0\n"
     ]
    }
   ],
   "source": [
    "def iterative_linear_search(arr, key):\n",
    "    for x in enumerate(arr):\n",
    "        if x[1] == key:\n",
    "            return x[0]\n",
    "    return - 1\n",
    "\n",
    "\n",
    "if __name__ == '__main__':\n",
    "    array = [1, 2, 3, 5]\n",
    "    key_element = 1\n",
    "    print(iterative_linear_search(array, key_element))"
   ]
  },
  {
   "cell_type": "code",
   "execution_count": 4,
   "outputs": [
    {
     "name": "stdout",
     "output_type": "stream",
     "text": [
      "4\n"
     ]
    }
   ],
   "source": [
    "def recursive_linear_search(arr, key, count=0):\n",
    "    if count == len(arr):\n",
    "        return -1\n",
    "    else:\n",
    "        if arr[count] == key:\n",
    "            return count\n",
    "        else:\n",
    "            count += 1\n",
    "            return recursive_linear_search(arr, key, count)\n",
    "\n",
    "\n",
    "if __name__ == '__main__':\n",
    "    array = [1, 2, 3, 4, 5]\n",
    "    key_element = 4\n",
    "    print(recursive_linear_search(array, key_element))"
   ],
   "metadata": {
    "collapsed": false
   }
  },
  {
   "cell_type": "code",
   "execution_count": null,
   "outputs": [],
   "source": [
    "def iterative_binary_search(arr,key):\n",
    "    low = 0\n",
    "    high = len(arr) - 1\n",
    "    while low <= high: # setting the base condition for the loop\n",
    "        mid = (low + high) // 2 # Calculating the mid based on which we divide the array\n",
    "        if arr[mid] == key:\n",
    "            return f\"element {arr[mid]} found at index: {mid}\"\n",
    "        elif arr[mid] < key:\n",
    "            low = mid + 1\n",
    "        elif arr[mid] > key:\n",
    "            high = mid - 1\n",
    "    return -1 # If the element doesn't exist in the given array we return -1\n",
    "\n",
    "\n",
    "if __name__ == '__main__':\n",
    "    array = [1, 2, 3, 4, 5, 6]\n",
    "    key_element = 90\n",
    "    print(iterative_binary_search(array,key_element))"
   ],
   "metadata": {
    "collapsed": false
   }
  },
  {
   "cell_type": "code",
   "execution_count": null,
   "outputs": [],
   "source": [
    "def recursive_binary_search(arr,key,high, low = 0):\n",
    "    if low <= high:\n",
    "        mid = (low + high) // 2\n",
    "        if arr[mid] < key:\n",
    "            return recursive_binary_search(arr,key,high,mid+1)\n",
    "        elif arr[mid] > key:\n",
    "            return recursive_binary_search(arr,key,mid-1,low)\n",
    "        elif arr[mid] == key:\n",
    "            return f\"The element {arr[mid]} fount at index: {mid}\"\n",
    "    else:\n",
    "        return -1\n",
    "\n",
    "\n",
    "if __name__ == '__main__':\n",
    "    array = [1, 2, 3, 4, 5]\n",
    "    key_element = 2\n",
    "    print(recursive_binary_search(array,key_element,len(array)-1,0))"
   ],
   "metadata": {
    "collapsed": false
   }
  },
  {
   "cell_type": "code",
   "execution_count": null,
   "outputs": [],
   "source": [
    "def selectionsort(arr):\n",
    "    for i in range(len(arr)):\n",
    "        min_idx = i\n",
    "        for j in range(i + 1 , len(arr)):\n",
    "            if arr[j] < arr[min_idx]:\n",
    "                min_idx = j\n",
    "        arr[i],arr[min_idx] = arr[min_idx], arr[i]\n",
    "    return arr\n",
    "\n",
    "if __name__ == '__main__':\n",
    "    array = [-12, 1, 31, -178, 502, 0]\n",
    "    print(selectionsort(array))\n"
   ],
   "metadata": {
    "collapsed": false
   }
  },
  {
   "cell_type": "code",
   "execution_count": 11,
   "outputs": [
    {
     "name": "stdout",
     "output_type": "stream",
     "text": [
      "[-99, -65, -25, -12, 0, 3, 4, 5, 43, 55, 64, 98]\n"
     ]
    }
   ],
   "source": [
    "def bubblesort(arr):\n",
    "    # Traversing through the array\n",
    "    for i in range(len(arr)):# After each iteration the i'th  largest element will settle in the last\n",
    "        # setting the range for adjacent swaps\n",
    "        for j in range(len(arr)-1-i):\n",
    "            # swapping the adjacent elements based on the condition\n",
    "            if arr[j] > arr[j+1]:\n",
    "\n",
    "                arr[j], arr[j+1] = arr[j+1], arr[j]\n",
    "    return arr\n",
    "\n",
    "\n",
    "# Driver code\n",
    "if __name__ == '__main__':\n",
    "    array = [-12, 43, 55, 5, 4, 3, 0,  98, 64, -25, -99, -65]\n",
    "    #[-12,43,5,4,3,55,64,-25,-99,-65,98]\n",
    "    print(bubblesort(array))\n"
   ],
   "metadata": {
    "collapsed": false
   }
  },
  {
   "cell_type": "code",
   "execution_count": null,
   "outputs": [],
   "source": [
    "def insertion_sort(arr):\n",
    "    # iterating through the array\n",
    "    for i in range(1,len(arr)):\n",
    "        # sorted sublist starts from the  element before the current element\n",
    "        j = i -1\n",
    "\n",
    "        while j>=0 and arr[j] > arr[j+1]:\n",
    "            # Inserting the element to it's appropriate position\n",
    "            arr[j], arr[j+1] = arr[j + 1], arr[j]\n",
    "            j -= 1\n",
    "    return arr\n",
    "# Driver Code\n",
    "if __name__ == '__main__':\n",
    "    array = [7, 9, 11, 14, -7, -5, -17, -19, 0]\n",
    "    print(insertion_sort(array))\n"
   ],
   "metadata": {
    "collapsed": false
   }
  },
  {
   "cell_type": "code",
   "execution_count": 5,
   "outputs": [
    {
     "name": "stdout",
     "output_type": "stream",
     "text": [
      "[-25, -12, 17, 45]\n"
     ]
    }
   ],
   "source": [
    "def mergesort(arr,low,high):\n",
    "    if low < high:\n",
    "        mid = (low + high) // 2\n",
    "        mergesort(arr,low,mid)\n",
    "        mergesort(arr,mid+1,high)\n",
    "        merge(arr,low,mid,high)\n",
    "\n",
    "\n",
    "def merge(arr,low,mid,high):\n",
    "    temp = [None for i in range(len(arr))]\n",
    "    i = low\n",
    "    j = mid + 1\n",
    "    k = low\n",
    "    while i <= mid and j <= high:\n",
    "        if arr[i] <= arr[j]:\n",
    "            temp[k] = arr[i]\n",
    "            i += 1\n",
    "        else:\n",
    "            temp[k] = arr[j]\n",
    "            j += 1\n",
    "        k += 1\n",
    "    while i <= mid:\n",
    "        temp[k] = arr[i]\n",
    "        k += 1\n",
    "        i += 1\n",
    "    while j <= high:\n",
    "        temp[k] = arr[i]\n",
    "        k += 1\n",
    "        j += 1\n",
    "\n",
    "    for i in range(low,high+1):\n",
    "        arr[i] = temp[i]\n",
    "\n",
    "\n",
    "if __name__ == '__main__':\n",
    "    array = [-12, 45, 17, -25]\n",
    "    mergesort(array,0,(len(array) - 1))\n",
    "    print(array)"
   ],
   "metadata": {
    "collapsed": false
   }
  },
  {
   "cell_type": "code",
   "execution_count": 11,
   "outputs": [
    {
     "name": "stdout",
     "output_type": "stream",
     "text": [
      "The sorted array is:  [-19, -14, 0, 1, 2, 3, 4, 5]\n"
     ]
    }
   ],
   "source": [
    "def partition_index(arr,low,high):\n",
    "    i = low\n",
    "    pivot = arr[high]\n",
    "    for j in range (low,high):\n",
    "        if arr[j] < pivot:\n",
    "            arr[i],arr[j] = arr[j], arr[i]\n",
    "            i += 1\n",
    "    arr[i],arr[high] = arr[high], arr[i]\n",
    "    return i\n",
    "\n",
    "def quicksort(arr,low,high):\n",
    "    if low < high:\n",
    "        pi = partition_index(arr,low,high)\n",
    "        quicksort(arr,low,pi-1)\n",
    "        quicksort(arr,pi+1,high)\n",
    "\n",
    "\n",
    "if __name__ == '__main__':\n",
    "    array = [5, 4, 3, 2, 1,  -14, -19, 0]\n",
    "    quicksort(array,0,len(array)-1)\n",
    "    print(\"The sorted array is: \", array)"
   ],
   "metadata": {
    "collapsed": false
   }
  }
 ],
 "metadata": {
  "kernelspec": {
   "display_name": "Python 3",
   "language": "python",
   "name": "python3"
  },
  "language_info": {
   "codemirror_mode": {
    "name": "ipython",
    "version": 2
   },
   "file_extension": ".py",
   "mimetype": "text/x-python",
   "name": "python",
   "nbconvert_exporter": "python",
   "pygments_lexer": "ipython2",
   "version": "2.7.6"
  }
 },
 "nbformat": 4,
 "nbformat_minor": 0
}
