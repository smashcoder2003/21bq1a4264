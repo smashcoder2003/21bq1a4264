{
 "cells": [
  {
   "cell_type": "code",
   "execution_count": 3,
   "metadata": {
    "collapsed": true
   },
   "outputs": [
    {
     "name": "stdout",
     "output_type": "stream",
     "text": [
      "0 0 1 0 \n",
      "1 0 0 0 \n",
      "0 0 0 1 \n",
      "0 1 0 0 \n"
     ]
    }
   ],
   "source": [
    "\"\"\"\n",
    "The N-queens problem.\n",
    "\n",
    "Question:\n",
    "\tA chess board of dimensions N * N is given. You need to place N in the chess board such\n",
    "\tthat no two Queens can kill each other.Return false if you can't place the queens and Return True along with the board if they can be placed.\n",
    "\n",
    "Constraints:\n",
    "\t1 < N <= 25\n",
    "\n",
    "Input:\n",
    "\"\"\"\n",
    "\n",
    "global N\n",
    "N = int(input(\"Enter the dimension of the chess board: \"))\n",
    "\n",
    "def printboard(board):\n",
    "\tfor i in range(len(board)):\n",
    "\t\tfor j in range(len(board)):\n",
    "\t\t\tprint(board[i][j], end=\" \")\n",
    "\t\tprint()\n",
    "\n",
    "def queen_placement(board, row, col):\n",
    "\tfor i in range(col):\n",
    "\t\tif board[row][i] == 1:\n",
    "\t\t\treturn False\n",
    "\n",
    "\tfor i,j in zip(range(row, -1 , -1),range(col, -1, -1)):\n",
    "\t\tif board[i][j] == 1:\n",
    "\t\t\treturn False\n",
    "\n",
    "\tfor i,j in zip(range(row, N, 1),range(col, -1, -1)):\n",
    "\t\tif board[i][j] == 1:\n",
    "\t\t\treturn False\n",
    "\n",
    "\treturn True\n",
    "\n",
    "\n",
    "def NQUtil(board, col=0):\n",
    "\tif col == N:\n",
    "\t\treturn True\n",
    "\n",
    "\tfor i in range(N):\n",
    "\t\tif queen_placement(board, i, col):\n",
    "\t\t\tboard[i][col] = 1\n",
    "\n",
    "\t\t\tif NQUtil(board, col + 1):\n",
    "\t\t\t\treturn True\n",
    "\n",
    "\t\t\tboard[i][col] = 0\n",
    "\treturn False\n",
    "\n",
    "if __name__ == \"__main__\":\n",
    "\tboard = [[0]*N for i in range(N)]\n",
    "\n",
    "\tif not NQUtil(board, 0):\n",
    "\t\tprint(\"The solution doesn't exist.\")\n",
    "\n",
    "\telse:\n",
    "\t\tprintboard(board)\n"
   ]
  },
  {
   "cell_type": "code",
   "execution_count": 9,
   "outputs": [
    {
     "name": "stdout",
     "output_type": "stream",
     "text": [
      "[['.Q..', '...Q', 'Q...', '..Q.'], ['..Q.', 'Q...', '...Q', '.Q..']]\n"
     ]
    }
   ],
   "source": [
    "class Solution:\n",
    "\tdef solveNQueens(self, n: int):\n",
    "\t\tdef issafe(r,c):\n",
    "\t\t\tn = len(board)\n",
    "\t\t\tfor i in range(n):\n",
    "\t\t\t\tif board[i][c] == 'Q':\n",
    "\t\t\t\t\treturn False\n",
    "\t\t\t\tif r - i >= 0 and c\t- i >= 0 and board[r-i][c-i] == 'Q':\n",
    "\t\t\t\t\treturn False\n",
    "\t\t\t\tif r - i >= 0 and c + i < n and board[r-i][c+i] == 'Q':\n",
    "\t\t\t\t\treturn False\n",
    "\t\t\treturn True\n",
    "\n",
    "\t\tdef solve(r):\n",
    "\t\t\tn = len(board)\n",
    "\t\t\tif r == n:\n",
    "\t\t\t\tans.append([\"\".join(x) for x in board])\n",
    "\t\t\t\treturn\n",
    "\t\t\tfor c in range(0,n):\n",
    "\t\t\t\tif issafe(r,c):\n",
    "\t\t\t\t\tboard[r][c] = 'Q'\n",
    "\t\t\t\t\tsolve(r+1)\n",
    "\t\t\t\t\tboard[r][c] = '.'\n",
    "\n",
    "\t\tboard = [['.']*n for i in range(n)]\n",
    "\t\tans = []\n",
    "\t\tsolve(0)\n",
    "\t\treturn ans\n",
    "\n",
    "\n",
    "\n",
    "if __name__ == '__main__':\n",
    "\tn = int(input())\n",
    "\tanswer = Solution.solveNQueens(Solution, n)\n",
    "\tprint(answer)\n"
   ],
   "metadata": {
    "collapsed": false
   }
  }
 ],
 "metadata": {
  "kernelspec": {
   "display_name": "Python 3",
   "language": "python",
   "name": "python3"
  },
  "language_info": {
   "codemirror_mode": {
    "name": "ipython",
    "version": 2
   },
   "file_extension": ".py",
   "mimetype": "text/x-python",
   "name": "python",
   "nbconvert_exporter": "python",
   "pygments_lexer": "ipython2",
   "version": "2.7.6"
  }
 },
 "nbformat": 4,
 "nbformat_minor": 0
}
